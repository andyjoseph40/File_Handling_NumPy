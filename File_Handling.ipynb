{
 "cells": [
  {
   "cell_type": "markdown",
   "id": "ed8af512",
   "metadata": {},
   "source": [
    "### Using NumPy Open() Function"
   ]
  },
  {
   "cell_type": "code",
   "execution_count": 31,
   "id": "b16f67a8",
   "metadata": {},
   "outputs": [
    {
     "name": "stdout",
     "output_type": "stream",
     "text": [
      "[['Loan_ID' 'Gender' 'Married' ... 'Credit_History' 'Property_Area'\n",
      "  'Loan_Status']\n",
      " ['LP001002' 'Male' 'No' ... '1' 'Urban' 'Y']\n",
      " ['LP001003' 'Male' 'Yes' ... '1' 'Rural' 'N']\n",
      " ...\n",
      " ['LP002983' 'Male' 'Yes' ... '1' 'Urban' 'Y']\n",
      " ['LP002984' 'Male' 'Yes' ... '1' 'Urban' 'Y']\n",
      " ['LP002990' 'Female' 'No' ... '0' 'Semiurban' 'N']]\n"
     ]
    }
   ],
   "source": [
    "import numpy as np\n",
    "\n",
    "file_path = r\"C:\\Users\\josep\\OneDrive\\Desktop\\Datasets\\Loan_prediction_dataset.csv\"\n",
    "\n",
    "# Open the file using Python's built-in open() function\n",
    "with open(r\"C:\\Users\\josep\\OneDrive\\Desktop\\Datasets\\Loan_prediction_dataset.csv\", 'r') as file:\n",
    "    \n",
    "    data = np.genfromtxt(r\"C:\\Users\\josep\\OneDrive\\Desktop\\Datasets\\Loan_prediction_dataset.csv\", delimiter=',', dtype=str)  # Example delimiter and dtype\n",
    "\n",
    "# Now, 'data' contains the contents of the file in a NumPy array\n",
    "print(data)\n",
    "\n",
    "file.close()"
   ]
  },
  {
   "cell_type": "code",
   "execution_count": 32,
   "id": "271109b5",
   "metadata": {},
   "outputs": [],
   "source": [
    "loan_amount = data"
   ]
  },
  {
   "cell_type": "code",
   "execution_count": 33,
   "id": "0996ad97",
   "metadata": {},
   "outputs": [
    {
     "name": "stdout",
     "output_type": "stream",
     "text": [
      "[  0. 128.  66. 120. 141. 267.  95. 158. 168. 349.  70. 109. 200. 114.\n",
      "  17. 125. 100.  76. 133. 115. 104. 315. 116. 112. 151. 191. 122. 110.\n",
      "  35. 120. 201.  74. 106. 114. 320. 100. 144. 184. 110.  80.  47.  75.\n",
      " 134.  96.  88.  44. 144. 120. 144. 100. 120. 112. 134. 286.  97.  96.\n",
      " 135. 180. 144. 120.  99. 165. 116. 258. 126. 312. 125. 136. 172.  97.\n",
      "  81.  95. 187. 113. 176. 110. 180. 130. 111. 167. 265.  50. 136.  99.\n",
      " 104. 210. 175. 131. 188.  81. 122.  25. 137.  50. 115. 131. 133. 151.\n",
      " 160. 100. 225. 120. 216.  94. 136. 139. 152. 118. 185. 154.  85. 175.\n",
      " 259. 180.  44. 137.  81. 194.  93. 370. 160. 182. 650.  74.  70.  25.\n",
      " 102. 290.  84.  88. 242. 129. 185. 168. 175. 122. 187. 100.  70.  30.\n",
      " 225. 125. 118. 152. 244. 113.  50. 600. 160. 187. 120. 255.  98. 275.\n",
      " 121. 158.  75. 182. 112. 129.  63. 200.  95. 700.  81. 187.  87. 116.\n",
      " 101. 495. 116. 102. 180.  67.  73. 260. 108. 120.  66.  58. 168. 188.\n",
      "  48. 164. 160.  76. 120. 170. 187. 120. 113.  83.  90. 166. 135. 124.\n",
      " 120.  80.  55.  59. 127. 214. 128. 240. 130. 137. 100. 135. 131.  72.\n",
      " 127.  60. 116. 144. 175. 128. 170. 138. 210. 158. 200. 104.  42. 120.\n",
      " 280. 140. 170. 255. 122. 112.  96. 120. 140. 155. 108. 123. 120. 112.\n",
      " 137. 123.  90. 201. 138. 104. 279. 192. 255. 115.  94. 304. 128. 330.\n",
      " 134. 155. 120. 128. 151. 150. 160. 135.  90.  30. 136. 126. 150.  90.\n",
      " 115. 207.  80. 436. 124. 158. 112.  78.  54.  89.  99. 120. 115. 187.\n",
      " 139. 127. 134. 143. 172. 110. 200. 135. 151. 113.  93. 105. 132.  96.\n",
      " 140. 135. 104. 480. 185.  84. 111.  56. 144. 159. 111. 120.  88. 112.\n",
      " 155. 115. 124. 132. 300. 376. 130. 184. 110.  67. 117.  98.  71. 490.\n",
      " 182.  70. 160. 176.  71. 173.  46. 158.  74. 125. 160. 152. 126. 259.\n",
      " 187. 228. 308.  95. 105. 130. 116. 165.  67. 100. 200.  81. 236. 130.\n",
      "  95. 141. 133.  96. 124. 175. 570.  55. 155. 380. 111. 110. 120. 130.\n",
      " 130.  71. 130. 128. 296. 156. 128. 100. 113. 132. 136. 125. 185. 275.\n",
      " 120. 113. 113. 135.  71.  95. 109. 103.  45.  65. 103.  53. 194. 115.\n",
      " 115.  66. 152. 360.  62. 160. 218. 110. 178.  60. 160. 239. 112. 138.\n",
      " 138.  80. 100. 110.  96. 121.  81. 133.  87.  60. 150. 105. 405. 143.\n",
      " 100.  50. 187. 138. 187. 180. 148. 152. 175. 130. 110.  55. 150. 190.\n",
      " 125.  60. 149.  90.  84.  96. 118. 173. 136. 160. 160. 128. 153. 132.\n",
      "  98. 140.  70. 110.  98. 110. 162. 113. 100.  93. 162. 150. 230. 132.\n",
      "  86. 154. 113. 128. 234. 246. 131.  80. 500. 160.  75.  96. 186. 110.\n",
      " 225. 119. 105. 107. 111.  95. 209. 113. 100. 208. 138. 124. 243. 480.\n",
      "  96. 188.  40. 100. 250. 148.  70. 311. 150. 113. 123. 185.  95.  45.\n",
      "  55. 100. 480. 400. 110. 161.  94. 130. 216. 100. 110. 196. 125. 126.\n",
      " 324. 107.  66. 157. 140.  99.  95. 128. 102. 155.  80. 145. 103. 110.\n",
      " 158. 181. 132.  26.  84. 260. 162. 182. 108. 600. 211. 132. 258. 120.\n",
      "  70. 123.   9. 104. 186. 165. 275. 187. 150. 108. 136. 110. 107. 161.\n",
      " 205.  90.  36.  61. 146. 172. 104.  70.  94. 106.  56. 205. 292. 142.\n",
      " 260. 110. 187.  88. 180. 192. 350. 155. 128. 172. 496. 173. 157. 108.\n",
      "  71.  40. 253. 187. 133.]\n"
     ]
    }
   ],
   "source": [
    "loan_amount = np.genfromtxt(data[:, 8], filling_values = 0)\n",
    "print(loan_amount)"
   ]
  },
  {
   "cell_type": "code",
   "execution_count": 38,
   "id": "6c16f8e3",
   "metadata": {},
   "outputs": [
    {
     "name": "stdout",
     "output_type": "stream",
     "text": [
      "Mean loan amount: 146.16526138279932\n"
     ]
    }
   ],
   "source": [
    "# Solving Mean\n",
    "\n",
    "mean_loan_amount = np.mean(loan_amount)\n",
    "print(f\"Mean loan amount: {mean_loan_amount}\")"
   ]
  },
  {
   "cell_type": "code",
   "execution_count": 39,
   "id": "8493c5e7",
   "metadata": {},
   "outputs": [
    {
     "name": "stdout",
     "output_type": "stream",
     "text": [
      "Median loan amount: 128.0\n"
     ]
    }
   ],
   "source": [
    "# Solving Median\n",
    "\n",
    "mean_loan_amount = np.median(loan_amount)\n",
    "print(f\"Median loan amount: {mean_loan_amount}\")"
   ]
  },
  {
   "cell_type": "code",
   "execution_count": 40,
   "id": "0a9390cb",
   "metadata": {},
   "outputs": [
    {
     "name": "stdout",
     "output_type": "stream",
     "text": [
      "Standard deviation loan amount: 85.65379749867185\n"
     ]
    }
   ],
   "source": [
    "# Solving Standard Deviation\n",
    "\n",
    "mean_loan_amount = np.std(loan_amount)\n",
    "print(f\"Standard deviation loan amount: {mean_loan_amount}\")"
   ]
  },
  {
   "cell_type": "code",
   "execution_count": null,
   "id": "1845fd96",
   "metadata": {},
   "outputs": [],
   "source": []
  }
 ],
 "metadata": {
  "kernelspec": {
   "display_name": "Python 3 (ipykernel)",
   "language": "python",
   "name": "python3"
  },
  "language_info": {
   "codemirror_mode": {
    "name": "ipython",
    "version": 3
   },
   "file_extension": ".py",
   "mimetype": "text/x-python",
   "name": "python",
   "nbconvert_exporter": "python",
   "pygments_lexer": "ipython3",
   "version": "3.11.5"
  }
 },
 "nbformat": 4,
 "nbformat_minor": 5
}
